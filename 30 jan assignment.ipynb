{
 "cells": [
  {
   "cell_type": "markdown",
   "id": "ef3e25ec-26fa-4ee3-8920-d5b8e2b217de",
   "metadata": {},
   "source": [
    "Ans = 1 "
   ]
  },
  {
   "cell_type": "code",
   "execution_count": 1,
   "id": "3f822641-d755-4567-aba7-02eea8ca28b3",
   "metadata": {},
   "outputs": [
    {
     "name": "stdout",
     "output_type": "stream",
     "text": [
      "you will get grade A\n"
     ]
    }
   ],
   "source": [
    "marks = 90\n",
    "if marks >=90:\n",
    "    print(\"you will get grade A\")\n",
    "elif marks >=80 and marks <90 :\n",
    "    print(\"you will get grade B\")\n",
    "elif marks >= 60 and marks <80:\n",
    "    print(\"you will get grade C\")\n",
    "else :\n",
    "    print(\"you will get D grade\")"
   ]
  },
  {
   "cell_type": "code",
   "execution_count": 2,
   "id": "2b0379ce-5ca5-4dc8-ba54-aa765f701835",
   "metadata": {},
   "outputs": [
    {
     "name": "stdout",
     "output_type": "stream",
     "text": [
      "you will get grade B\n"
     ]
    }
   ],
   "source": [
    "marks = 81\n",
    "if marks >=90:\n",
    "    print(\"you will get grade A\")\n",
    "elif marks >=80 and marks <90 :\n",
    "    print(\"you will get grade B\")\n",
    "elif marks >= 60 and marks <80:\n",
    "    print(\"you will get grade C\")\n",
    "else :\n",
    "    print(\"you will get D grade\")"
   ]
  },
  {
   "cell_type": "code",
   "execution_count": 3,
   "id": "12ece215-359a-4d56-a303-47abef893203",
   "metadata": {},
   "outputs": [
    {
     "name": "stdout",
     "output_type": "stream",
     "text": [
      "you will get grade C\n"
     ]
    }
   ],
   "source": [
    "marks = 75\n",
    "if marks >=90:\n",
    "    print(\"you will get grade A\")\n",
    "elif marks >=80 and marks <90 :\n",
    "    print(\"you will get grade B\")\n",
    "elif marks >= 60 and marks <80:\n",
    "    print(\"you will get grade C\")\n",
    "else :\n",
    "    print(\"you will get D grade\")"
   ]
  },
  {
   "cell_type": "code",
   "execution_count": 4,
   "id": "bd392b50-077e-4aac-ac56-3577f7b58f72",
   "metadata": {},
   "outputs": [
    {
     "name": "stdin",
     "output_type": "stream",
     "text": [
      "enter your marks 56\n"
     ]
    },
    {
     "name": "stdout",
     "output_type": "stream",
     "text": [
      "you will get D grade\n"
     ]
    }
   ],
   "source": [
    "marks = int(input(\"enter your marks\"))\n",
    "if marks >=90:\n",
    "    print(\"you will get grade A\")\n",
    "elif marks >=80 and marks <90 :\n",
    "    print(\"you will get grade B\")\n",
    "elif marks >= 60 and marks <80:\n",
    "    print(\"you will get grade c\")\n",
    "else :\n",
    "    print(\"you will get D grade\")"
   ]
  },
  {
   "cell_type": "markdown",
   "id": "9dbccfd4-05f9-4cf7-b144-340f3fcd2292",
   "metadata": {},
   "source": [
    "Ans = 2 "
   ]
  },
  {
   "cell_type": "code",
   "execution_count": 5,
   "id": "0dfa3937-f3be-4868-8276-3f71d808a9b3",
   "metadata": {},
   "outputs": [
    {
     "name": "stdout",
     "output_type": "stream",
     "text": [
      "tax will be 15%\n"
     ]
    }
   ],
   "source": [
    "price = 110000\n",
    "if price >=100000:\n",
    "    print(\"tax will be 15%\")\n",
    "elif price >=50000 and price <100000:\n",
    "    print(\"tax will be 10%\")\n",
    "else :\n",
    "    print(\"tax will be 5%\")"
   ]
  },
  {
   "cell_type": "code",
   "execution_count": 7,
   "id": "73c5534e-5dcd-4bf7-8d49-6f901460dfe4",
   "metadata": {},
   "outputs": [
    {
     "name": "stdout",
     "output_type": "stream",
     "text": [
      "tax will be 10%\n"
     ]
    }
   ],
   "source": [
    "price = 55000\n",
    "if price >=100000:\n",
    "    print(\"tax will be 15%\")\n",
    "elif price >=50000 and price <100000:\n",
    "    print(\"tax will be 10%\")\n",
    "else :\n",
    "    print(\"tax will be 5%\")"
   ]
  },
  {
   "cell_type": "code",
   "execution_count": 8,
   "id": "2e2bd0c0-723f-45a6-90ad-626038c6f7f2",
   "metadata": {},
   "outputs": [
    {
     "name": "stdin",
     "output_type": "stream",
     "text": [
      "enter price 2000\n"
     ]
    },
    {
     "name": "stdout",
     "output_type": "stream",
     "text": [
      "tax will be 5%\n"
     ]
    }
   ],
   "source": [
    "price = int(input(\"enter price\"))\n",
    "if price >=100000:\n",
    "    print(\"tax will be 15%\")\n",
    "elif price >=50000 and price <100000:\n",
    "    print(\"tax will be 10%\")\n",
    "else :\n",
    "    print(\"tax will be 5%\")"
   ]
  },
  {
   "cell_type": "code",
   "execution_count": null,
   "id": "74eb853a-1c4c-49b5-924a-884adeefaf88",
   "metadata": {},
   "outputs": [],
   "source": [
    "Ans 3"
   ]
  },
  {
   "cell_type": "code",
   "execution_count": 10,
   "id": "ce2ef580-91ff-4c78-94a6-bbb926ae992e",
   "metadata": {},
   "outputs": [
    {
     "name": "stdin",
     "output_type": "stream",
     "text": [
      "input the city name Delhi\n"
     ]
    },
    {
     "name": "stdout",
     "output_type": "stream",
     "text": [
      "Red Fort\n"
     ]
    }
   ],
   "source": [
    "city = input(\"input the city name\")\n",
    "if city == \"Delhi\":\n",
    "    print(\"Red Fort\")"
   ]
  },
  {
   "cell_type": "code",
   "execution_count": 11,
   "id": "81c90f19-70ab-4be9-9747-68b0ee980425",
   "metadata": {},
   "outputs": [
    {
     "name": "stdout",
     "output_type": "stream",
     "text": [
      "Taj Mahal\n"
     ]
    }
   ],
   "source": [
    "city = \"Agra\"\n",
    "if city == \"Agra\":\n",
    "    print(\"Taj Mahal\")"
   ]
  },
  {
   "cell_type": "code",
   "execution_count": 12,
   "id": "23e0e1af-f96c-469d-80fd-b72443c13565",
   "metadata": {},
   "outputs": [
    {
     "name": "stdout",
     "output_type": "stream",
     "text": [
      "Jal Mahal\n"
     ]
    }
   ],
   "source": [
    "city = \"Jaipur\"\n",
    "if city == \"Jaipur\":\n",
    "    print(\"Jal Mahal\")"
   ]
  },
  {
   "cell_type": "code",
   "execution_count": 15,
   "id": "64d9e2c5-2280-47f5-8175-32dcf1136871",
   "metadata": {},
   "outputs": [],
   "source": [
    "# ANS 4\n"
   ]
  },
  {
   "cell_type": "code",
   "execution_count": 13,
   "id": "78b9ed61-5220-4c80-abbf-be568a8a558b",
   "metadata": {},
   "outputs": [
    {
     "name": "stdin",
     "output_type": "stream",
     "text": [
      "enter number 0\n"
     ]
    },
    {
     "name": "stdout",
     "output_type": "stream",
     "text": [
      "0 is divisble by  3 \n"
     ]
    }
   ],
   "source": [
    "num1 = int(input(\"enter number\"))\n",
    "if(num1%3==0):\n",
    "    print(\"{} is divisble by  3 \".format(num1))\n",
    "else:\n",
    "    print(\"{} is not divisble by 3 \".format(num1))"
   ]
  },
  {
   "cell_type": "code",
   "execution_count": 14,
   "id": "b39325af-41cb-4e9d-b8f0-48ddfaa5a78b",
   "metadata": {},
   "outputs": [
    {
     "name": "stdin",
     "output_type": "stream",
     "text": [
      "enter number 1\n"
     ]
    },
    {
     "name": "stdout",
     "output_type": "stream",
     "text": [
      "1 is not divisble by 3 \n"
     ]
    }
   ],
   "source": [
    "num1 = int(input(\"enter number\"))\n",
    "if(num1%3==0):\n",
    "    print(\"{} is divisble by  3 \".format(num1))\n",
    "else:\n",
    "    print(\"{} is not divisble by 3 \".format(num1))"
   ]
  },
  {
   "cell_type": "code",
   "execution_count": 17,
   "id": "ad2c417a-3c45-42d7-8bf8-22831832212f",
   "metadata": {},
   "outputs": [
    {
     "name": "stdin",
     "output_type": "stream",
     "text": [
      "enter number 4\n"
     ]
    },
    {
     "name": "stdout",
     "output_type": "stream",
     "text": [
      "4 is not divisble by 3 \n"
     ]
    }
   ],
   "source": [
    "num1 = int(input(\"enter number\"))\n",
    "if(num1%3==0):\n",
    "    print(\"{} is divisble by  3 \".format(num1))\n",
    "else:\n",
    "    print(\"{} is not divisble by 3 \".format(num1))"
   ]
  },
  {
   "cell_type": "code",
   "execution_count": 18,
   "id": "efe79c17-ef4b-44ba-82ea-944f357ec883",
   "metadata": {},
   "outputs": [
    {
     "name": "stdin",
     "output_type": "stream",
     "text": [
      "enter number 7\n"
     ]
    },
    {
     "name": "stdout",
     "output_type": "stream",
     "text": [
      "7 is not divisble by 3 \n"
     ]
    }
   ],
   "source": [
    "num1 = int(input(\"enter number\"))\n",
    "if(num1%3==0):\n",
    "    print(\"{} is divisble by  3 \".format(num1))\n",
    "else:\n",
    "    print(\"{} is not divisble by 3 \".format(num1))"
   ]
  },
  {
   "cell_type": "code",
   "execution_count": 19,
   "id": "2d39916c-dbed-4208-bc29-8e1d586e39fa",
   "metadata": {},
   "outputs": [
    {
     "name": "stdin",
     "output_type": "stream",
     "text": [
      "enter number 9\n"
     ]
    },
    {
     "name": "stdout",
     "output_type": "stream",
     "text": [
      "9 is divisble by  3 \n"
     ]
    }
   ],
   "source": [
    "num1 = int(input(\"enter number\"))\n",
    "if(num1%3==0):\n",
    "    print(\"{} is divisble by  3 \".format(num1))\n",
    "else:\n",
    "    print(\"{} is not divisble by 3 \".format(num1))"
   ]
  },
  {
   "cell_type": "code",
   "execution_count": 20,
   "id": "e6df4471-3932-4ad0-9fbf-c843d368376b",
   "metadata": {},
   "outputs": [
    {
     "name": "stdin",
     "output_type": "stream",
     "text": [
      "enter number 10\n"
     ]
    },
    {
     "name": "stdout",
     "output_type": "stream",
     "text": [
      "10 is not divisble by 3 \n"
     ]
    }
   ],
   "source": [
    "num1 = int(input(\"enter number\"))\n",
    "if(num1%3==0):\n",
    "    print(\"{} is divisble by  3 \".format(num1))\n",
    "else:\n",
    "    print(\"{} is not divisble by 3 \".format(num1))"
   ]
  },
  {
   "cell_type": "code",
   "execution_count": 21,
   "id": "a6918b31-32bd-48ae-bbd1-eb2cea9c3c38",
   "metadata": {},
   "outputs": [],
   "source": [
    "# ANS 5"
   ]
  },
  {
   "cell_type": "markdown",
   "id": "84ed0d75-0198-47be-9fbb-cbd211229eaa",
   "metadata": {},
   "source": [
    "Python while loop is used to run a code until a certain condition is met.\n",
    "1- A while loop evaluates the condition\n",
    "2- If the condition evaluates to True , the code inside the while loop is executed\n",
    "3- Condition is evaluated again\n",
    "4- This process continues until the condition is Flase\n",
    "5- When condition evaluates to False , the loop stops\n"
   ]
  },
  {
   "cell_type": "code",
   "execution_count": 23,
   "id": "4ae7b9ba-c92e-4cfa-b57d-ac8833f33e6d",
   "metadata": {},
   "outputs": [],
   "source": [
    "i = 1\n",
    "n = 5"
   ]
  },
  {
   "cell_type": "code",
   "execution_count": 24,
   "id": "acba0621-fa10-462c-8cc7-53bbd12e7f8e",
   "metadata": {},
   "outputs": [
    {
     "name": "stdout",
     "output_type": "stream",
     "text": [
      "1\n",
      "2\n",
      "3\n",
      "4\n",
      "5\n"
     ]
    }
   ],
   "source": [
    "while i <= n:\n",
    "    print(i)\n",
    "    i = i+1\n"
   ]
  },
  {
   "cell_type": "code",
   "execution_count": 25,
   "id": "afa3db75-502a-4a3e-b7cd-29b8c9de7de7",
   "metadata": {},
   "outputs": [],
   "source": [
    "#example"
   ]
  },
  {
   "cell_type": "code",
   "execution_count": 1,
   "id": "d3cf6e6b-c980-4f90-bf2c-1d3c553602cf",
   "metadata": {},
   "outputs": [],
   "source": [
    "counter = 0"
   ]
  },
  {
   "cell_type": "code",
   "execution_count": 2,
   "id": "16666a9a-b414-4e96-b8cc-6f9cc79af739",
   "metadata": {},
   "outputs": [
    {
     "name": "stdout",
     "output_type": "stream",
     "text": [
      "inside loop\n",
      "inside loop\n",
      "inside loop\n",
      "inside else\n"
     ]
    }
   ],
   "source": [
    "while counter < 3 :\n",
    "    print ('inside loop')\n",
    "    counter = counter + 1\n",
    "else :\n",
    "    print('inside else')"
   ]
  },
  {
   "cell_type": "raw",
   "id": "9822bd8e-b904-40c2-bbdc-de7236103e8f",
   "metadata": {},
   "source": [
    "ANS-6 "
   ]
  },
  {
   "cell_type": "code",
   "execution_count": 1,
   "id": "b86f7870-ce10-42fd-86b8-46fbcafd4cec",
   "metadata": {},
   "outputs": [
    {
     "name": "stdout",
     "output_type": "stream",
     "text": [
      "1\n",
      "2\n",
      "3\n",
      "4\n",
      "1\n",
      "2\n",
      "3\n",
      "4\n",
      "1\n",
      "2\n",
      "3\n",
      "4\n",
      "1\n",
      "2\n",
      "3\n",
      "4\n"
     ]
    }
   ],
   "source": [
    "i = 1\n",
    "while i <5:\n",
    "    j = 1\n",
    "    while j <5:\n",
    "        print(j)\n",
    "        j= j+1\n",
    "    i = i+1    "
   ]
  },
  {
   "cell_type": "code",
   "execution_count": 7,
   "id": "7f63e01f-2c89-4973-9b0c-f0a0a2aaa00f",
   "metadata": {},
   "outputs": [
    {
     "name": "stdout",
     "output_type": "stream",
     "text": [
      "*\n",
      "**\n",
      "***\n",
      "****\n",
      "*****\n"
     ]
    }
   ],
   "source": [
    "i=1\n",
    "while i <=5:\n",
    "    j = 1\n",
    "    while j <=i:\n",
    "        print('*',end ='')\n",
    "        j = j+1\n",
    "    print()\n",
    "    i = i+1\n",
    "        \n",
    "    "
   ]
  },
  {
   "cell_type": "code",
   "execution_count": 9,
   "id": "d1e611d2-8dba-4af8-85f1-a18fb7bbb0b2",
   "metadata": {},
   "outputs": [
    {
     "name": "stdout",
     "output_type": "stream",
     "text": [
      "i\n",
      "ii\n",
      "iii\n",
      "iiii\n",
      "iiiii\n"
     ]
    }
   ],
   "source": [
    "i=1\n",
    "while i <=5:\n",
    "    j = 1\n",
    "    while j <=i:\n",
    "        print('i',end ='')\n",
    "        j = j+1\n",
    "    print()\n",
    "    i = i+1\n",
    "        \n",
    "    "
   ]
  },
  {
   "cell_type": "code",
   "execution_count": 11,
   "id": "f4371b62-e3d5-4848-8a84-618ce3fa5c6b",
   "metadata": {},
   "outputs": [
    {
     "name": "stdout",
     "output_type": "stream",
     "text": [
      "11111\n",
      "2222\n",
      "333\n",
      "44\n",
      "5\n"
     ]
    }
   ],
   "source": [
    "for i in range(1,6):\n",
    "    for j in range(i,6):\n",
    "        print(i,end='')\n",
    "    print()    "
   ]
  },
  {
   "cell_type": "code",
   "execution_count": 12,
   "id": "dd34d81e-5b5c-4dce-bdf1-850dbc45a413",
   "metadata": {},
   "outputs": [
    {
     "name": "stdout",
     "output_type": "stream",
     "text": [
      "12345\n",
      "2345\n",
      "345\n",
      "45\n",
      "5\n"
     ]
    }
   ],
   "source": [
    "for i in range(1,6):\n",
    "    for j in range(i,6):\n",
    "        print(j,end='')\n",
    "    print()    "
   ]
  },
  {
   "cell_type": "raw",
   "id": "1025bec3-6ab6-49f8-ba38-be65e031dbf0",
   "metadata": {},
   "source": [
    "ANS-7"
   ]
  },
  {
   "cell_type": "code",
   "execution_count": 17,
   "id": "774ef500-f190-4eb0-90ad-39a963496bea",
   "metadata": {},
   "outputs": [
    {
     "name": "stdout",
     "output_type": "stream",
     "text": [
      "10 9 8 7 6 5 4 3 2 1 "
     ]
    }
   ],
   "source": [
    "i = 10\n",
    "while i >=1:\n",
    "    print(i,end=' ')\n",
    "    i -=1\n",
    "    "
   ]
  },
  {
   "cell_type": "raw",
   "id": "5efb28e0-c0a7-4d02-b3f2-063b13326085",
   "metadata": {},
   "source": [
    "ANS-8"
   ]
  },
  {
   "cell_type": "code",
   "execution_count": 19,
   "id": "f4a7f465-1bd0-46ab-af2c-3f02d438b3ad",
   "metadata": {},
   "outputs": [
    {
     "name": "stdout",
     "output_type": "stream",
     "text": [
      "10\n",
      "9\n",
      "8\n",
      "7\n",
      "6\n",
      "5\n",
      "4\n",
      "3\n",
      "2\n",
      "1\n"
     ]
    }
   ],
   "source": [
    "i = 10\n",
    "while i>0:\n",
    "    print(i)\n",
    "    i= i-1"
   ]
  },
  {
   "cell_type": "code",
   "execution_count": null,
   "id": "65923757-bb91-4e2d-838f-4e92a8f87177",
   "metadata": {},
   "outputs": [],
   "source": []
  }
 ],
 "metadata": {
  "kernelspec": {
   "display_name": "Python 3 (ipykernel)",
   "language": "python",
   "name": "python3"
  },
  "language_info": {
   "codemirror_mode": {
    "name": "ipython",
    "version": 3
   },
   "file_extension": ".py",
   "mimetype": "text/x-python",
   "name": "python",
   "nbconvert_exporter": "python",
   "pygments_lexer": "ipython3",
   "version": "3.10.8"
  }
 },
 "nbformat": 4,
 "nbformat_minor": 5
}
